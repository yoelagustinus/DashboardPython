{
 "cells": [
  {
   "cell_type": "code",
   "execution_count": null,
   "id": "7ea88ea4",
   "metadata": {},
   "outputs": [],
   "source": [
    "# If you prefer to run the code online instead of on your computer click:\n",
    "# https://github.com/Coding-with-Adam/Dash-by-Plotly#execute-code-in-browser\n",
    "\n",
    "from dash import Dash, dcc, Output, Input  # pip install dash\n",
    "import dash_bootstrap_components as dbc    # pip install dash-bootstrap-components\n",
    "\n",
    "# Build your components\n",
    "app = Dash(__name__, external_stylesheets=[dbc.themes.SOLAR])\n",
    "mytext = dcc.Markdown(children='')\n",
    "myinput = dbc.Input(value=\"# Hello World - let's build web apps in Python!\")\n",
    "\n",
    "# Customize your own Layout\n",
    "app.layout = dbc.Container([mytext, myinput])\n",
    "\n",
    "# Callback allows components to interact\n",
    "@app.callback(\n",
    "    Output(mytext, component_property='children'),\n",
    "    Input(myinput, component_property='value')\n",
    ")\n",
    "def update_title(user_input):  # function arguments come from the component property of the Input\n",
    "    return user_input  # returned objects are assigned to the component property of the Output\n",
    "\n",
    "\n",
    "# Run app\n",
    "if __name__=='__main__':\n",
    "    app.run_server(port=8042)\n"
   ]
  }
 ],
 "metadata": {
  "kernelspec": {
   "display_name": "Python 3 (ipykernel)",
   "language": "python",
   "name": "python3"
  },
  "language_info": {
   "codemirror_mode": {
    "name": "ipython",
    "version": 3
   },
   "file_extension": ".py",
   "mimetype": "text/x-python",
   "name": "python",
   "nbconvert_exporter": "python",
   "pygments_lexer": "ipython3",
   "version": "3.10.0"
  }
 },
 "nbformat": 4,
 "nbformat_minor": 5
}
