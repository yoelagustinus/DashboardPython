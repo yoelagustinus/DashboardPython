{
 "cells": [
  {
   "cell_type": "code",
   "execution_count": null,
   "id": "d0845ef1",
   "metadata": {},
   "outputs": [],
   "source": [
    "# If you prefer to run the code online instead of on your computer click:\n",
    "# https://github.com/Coding-with-Adam/Dash-by-Plotly#execute-code-in-browser\n",
    "\n",
    "from dash import Dash, dcc               # pip install dash\n",
    "import dash_bootstrap_components as dbc  # pip install dash-bootstrap-components\n",
    "\n",
    "# Build your components\n",
    "app = Dash(__name__, external_stylesheets=[dbc.themes.BOOTSTRAP])\n",
    "mytext = dcc.Markdown(children=\"# Hello World - let's build web apps in Python!\")\n",
    "\n",
    "# Customize your own Layout\n",
    "app.layout = dbc.Container([mytext])\n",
    "\n",
    "# Run app\n",
    "if __name__=='__main__':\n",
    "    app.run_server(port=8041)\n",
    "\n"
   ]
  }
 ],
 "metadata": {
  "kernelspec": {
   "display_name": "Python 3 (ipykernel)",
   "language": "python",
   "name": "python3"
  },
  "language_info": {
   "codemirror_mode": {
    "name": "ipython",
    "version": 3
   },
   "file_extension": ".py",
   "mimetype": "text/x-python",
   "name": "python",
   "nbconvert_exporter": "python",
   "pygments_lexer": "ipython3",
   "version": "3.10.0"
  }
 },
 "nbformat": 4,
 "nbformat_minor": 5
}
